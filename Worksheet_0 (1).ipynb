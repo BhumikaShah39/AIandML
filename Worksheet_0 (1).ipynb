{
  "nbformat": 4,
  "nbformat_minor": 0,
  "metadata": {
    "colab": {
      "provenance": []
    },
    "kernelspec": {
      "name": "python3",
      "display_name": "Python 3"
    },
    "language_info": {
      "name": "python"
    }
  },
  "cells": [
    {
      "cell_type": "markdown",
      "source": [
        "Task - 1:\n",
        "Create a Python program that converts between different units of measurement.\n",
        "• The program should:\n",
        "1. Prompt the user to choose the type of conversion (e.g., length, weight, volume).\n",
        "2. Ask the user to input the value to be converted.\n",
        "3. Perform the conversion and display the result.\n",
        "4. Handle potential errors, such as invalid input or unsupported conversion types.\n",
        "• Requirements:\n",
        "1. Functions: Define at least one function to perform the conversion.\n",
        "2. Error Handling: Use try-except blocks to handle invalid input (e.g., non-numeric values).\n",
        "3. User Input: Prompt the user to select the conversion type and input the value.\n",
        "4. Docstrings: Include a docstring in your function to describe its purpose, parameters, and\n",
        "return value.\n",
        "• Conversion Options:\n",
        "1. Length:\n",
        "– Convert meters (m) to feet (ft).\n",
        "– Convert feet (ft) to meters (m).\n",
        "2. Weight:\n",
        "– Convert kilograms (kg) to pounds (lbs).\n",
        "– Convert pounds (lbs) to kilograms (kg).\n",
        "3. Volume:\n",
        "– Convert liters (L) to gallons (gal).\n",
        "– Convert gallons (gal) to liters (L).\n"
      ],
      "metadata": {
        "id": "bX0MoqMAORCg"
      }
    },
    {
      "cell_type": "code",
      "source": [
        "def convert_units():\n",
        "    print(\"Choose a conversion type:\")\n",
        "    print(\"1. Meters to Feet\")\n",
        "    print(\"2. Feet to Meters\")\n",
        "    print(\"3. Kilograms to Pounds\")\n",
        "    print(\"4. Pounds to Kilograms\")\n",
        "    print(\"5. Liters to Gallons\")\n",
        "    print(\"6. Gallons to Liters\")\n",
        "\n",
        "    try:\n",
        "        choice = int(input(\"Enter your choice (1-6): \"))\n",
        "        value = float(input(\"Enter the value to convert: \"))\n",
        "\n",
        "        if choice == 1:\n",
        "            result = value * 3.28084\n",
        "            print(f\"{value} meters is {result:.2f} feet.\")\n",
        "        elif choice == 2:\n",
        "            result = value / 3.28084\n",
        "            print(f\"{value} feet is {result:.2f} meters.\")\n",
        "        elif choice == 3:\n",
        "            result = value * 2.20462\n",
        "            print(f\"{value} kilograms is {result:.2f} pounds.\")\n",
        "        elif choice == 4:\n",
        "            result = value / 2.20462\n",
        "            print(f\"{value} pounds is {result:.2f} kilograms.\")\n",
        "        elif choice == 5:\n",
        "            result = value * 0.264172\n",
        "            print(f\"{value} liters is {result:.2f} gallons.\")\n",
        "        elif choice == 6:\n",
        "            result = value / 0.264172\n",
        "            print(f\"{value} gallons is {result:.2f} liters.\")\n",
        "        else:\n",
        "            print(\"Invalid choice. Please select a number from 1 to 6.\")\n",
        "    except ValueError:\n",
        "        print(\"Invalid input. Please enter a numeric value.\")\n",
        "\n",
        "\n",
        "convert_units()\n"
      ],
      "metadata": {
        "colab": {
          "base_uri": "https://localhost:8080/"
        },
        "id": "NGdvPZWhOT4A",
        "outputId": "befc6c75-fb02-4863-8528-41b5fb4a7644"
      },
      "execution_count": 5,
      "outputs": [
        {
          "output_type": "stream",
          "name": "stdout",
          "text": [
            "Choose a conversion type:\n",
            "1. Meters to Feet\n",
            "2. Feet to Meters\n",
            "3. Kilograms to Pounds\n",
            "4. Pounds to Kilograms\n",
            "5. Liters to Gallons\n",
            "6. Gallons to Liters\n",
            "Enter your choice (1-6): 2\n",
            "Enter the value to convert: 4\n",
            "4.0 feet is 1.22 meters.\n"
          ]
        }
      ]
    },
    {
      "cell_type": "markdown",
      "source": [
        "Task - 2:\n",
        "Create a Python program that performs various mathematical operations on a list of numbers.\n",
        "• The Program should:\n",
        "1. Prompt the user to choose an operation (e.g., find the sum, average, maximum, or minimum\n",
        "of the numbers).\n",
        "2. Ask the user to input a list of numbers (separated by spaces).\n",
        "\n",
        "3. Perform the selected operation and display the result.\n",
        "4. Handle potential errors, such as invalid input or empty lists.\n",
        "\n",
        "• Requirements:\n",
        "1. Functions: Define at least one function for each operation (sum, average, maximum, minimum).\n",
        "2. Error Handling: Use try-except blocks to handle invalid input (e.g., non-numeric values or\n",
        "empty lists).\n",
        "3. User Input: Prompt the user to select the operation and input the list of numbers.\n",
        "4. Docstrings: Include a docstring in each function to describe its purpose, parameters, and\n",
        "return value"
      ],
      "metadata": {
        "id": "2QkhJecVPCrv"
      }
    },
    {
      "cell_type": "code",
      "source": [
        "def find_sum(numbers: list[float]) -> float:\n",
        "\n",
        "    return sum(numbers)\n",
        "\n",
        "def find_average(numbers: list[float]) -> float:\n",
        "\n",
        "    return sum(numbers) / len(numbers) if numbers else 0\n",
        "\n",
        "def find_maximum(numbers: list[float]) -> float:\n",
        "\n",
        "    return max(numbers)\n",
        "\n",
        "def find_minimum(numbers: list[float]) -> float:\n",
        "\n",
        "    return min(numbers)\n",
        "\n",
        "def main():\n",
        "\n",
        "    try:\n",
        "        print(\"Choose an operation:\")\n",
        "        print(\"1. Find Sum\")\n",
        "        print(\"2. Find Average\")\n",
        "        print(\"3. Find Maximum\")\n",
        "        print(\"4. Find Minimum\")\n",
        "\n",
        "        choice = int(input(\"Enter your choice (1-4): \"))\n",
        "        numbers = list(map(float, input(\"Enter a list of numbers separated by spaces: \").split()))\n",
        "\n",
        "        if not numbers:\n",
        "            print(\"Error: The list cannot be empty.\")\n",
        "            return\n",
        "\n",
        "        if choice == 1:\n",
        "            print(f\"Sum: {find_sum(numbers)}\")\n",
        "        elif choice == 2:\n",
        "            print(f\"Average: {find_average(numbers)}\")\n",
        "        elif choice == 3:\n",
        "            print(f\"Maximum: {find_maximum(numbers)}\")\n",
        "        elif choice == 4:\n",
        "            print(f\"Minimum: {find_minimum(numbers)}\")\n",
        "        else:\n",
        "            print(\"Invalid choice. Please select a valid option.\")\n",
        "    except ValueError:\n",
        "        print(\"Invalid input. Please enter numeric values only.\")\n",
        "\n",
        "\n",
        "main()\n"
      ],
      "metadata": {
        "colab": {
          "base_uri": "https://localhost:8080/"
        },
        "id": "5-uHmiLkPWFy",
        "outputId": "670b096e-39ab-4f83-df55-a8a377a34787"
      },
      "execution_count": 6,
      "outputs": [
        {
          "output_type": "stream",
          "name": "stdout",
          "text": [
            "Choose an operation:\n",
            "1. Find Sum\n",
            "2. Find Average\n",
            "3. Find Maximum\n",
            "4. Find Minimum\n",
            "Enter your choice (1-4): 3\n",
            "Enter a list of numbers separated by spaces:  4 6 7\n",
            "Maximum: 7.0\n"
          ]
        }
      ]
    },
    {
      "cell_type": "markdown",
      "source": [
        "4.2 Exercise on List Manipulation:\n",
        "1. Extract Every Other Element:\n",
        "Write a Python function that extracts every other element from a list, starting from the first element.\n",
        "\n",
        "• Requirements:\n",
        "– Define a function extract every other(lst) that takes a list lst as input and returns a\n",
        "new list containing every other element from the original list.\n",
        "– Example: For the input [1, 2, 3, 4, 5, 6], the output should be [1, 3, 5]."
      ],
      "metadata": {
        "id": "npmvH65PTgtI"
      }
    },
    {
      "cell_type": "code",
      "source": [
        "def extract_every_other(lst: list) -> list:\n",
        "    return lst[::2]\n",
        "\n",
        "def main():\n",
        "\n",
        "    try:\n",
        "        numbers = list(map(int, input(\"Enter a list of numbers separated by spaces: \").split()))\n",
        "        if not numbers:\n",
        "            print(\"Error: The list cannot be empty.\")\n",
        "            return\n",
        "        print(f\"Every Other Element: {extract_every_other(numbers)}\")\n",
        "    except ValueError:\n",
        "        print(\"Invalid input. Please enter numeric values only.\")\n",
        "\n",
        "\n",
        "main()\n"
      ],
      "metadata": {
        "colab": {
          "base_uri": "https://localhost:8080/"
        },
        "id": "_qWbCktCTkaa",
        "outputId": "622fb49f-d2b9-4197-d587-4e3432a6a83f"
      },
      "execution_count": 7,
      "outputs": [
        {
          "output_type": "stream",
          "name": "stdout",
          "text": [
            "Enter a list of numbers separated by spaces: 4 7 8 1 2 3\n",
            "Every Other Element: [4, 8, 2]\n"
          ]
        }
      ]
    },
    {
      "cell_type": "markdown",
      "source": [
        "2. Slice a Sublist:\n",
        "\n",
        "Write a Python function that returns a sublist from a given list, starting from a specified index and\n",
        "ending at another specified index.\n",
        "\n",
        "• Requirements:\n",
        "\n",
        "–Define a function get sublist(lst, start, end) that takes a list lst, a starting index\n",
        "start, and an ending index end as input and returns the sublist from start to end (inclusive).\n",
        "\n",
        "– Example: For the input [1, 2, 3, 4, 5, 6] with start=2 and end=4, the output should\n",
        "be [3, 4, 5].\n"
      ],
      "metadata": {
        "id": "CVlBPHsYVwD8"
      }
    },
    {
      "cell_type": "code",
      "source": [
        "def extract_every_other(lst: list) -> list:\n",
        "\n",
        "    return lst[::2]\n",
        "\n",
        "def get_sublist(lst: list, start: int, end: int) -> list:\n",
        "\n",
        "    return lst[start:end+1]\n",
        "\n",
        "def main():\n",
        "\n",
        "    try:\n",
        "        numbers = list(map(int, input(\"Enter a list of numbers separated by spaces: \").split()))\n",
        "        if not numbers:\n",
        "            print(\"Error: The list cannot be empty.\")\n",
        "            return\n",
        "\n",
        "        print(f\"Every Other Element: {extract_every_other(numbers)}\")\n",
        "\n",
        "        start = int(input(\"Enter start index for sublist: \"))\n",
        "        end = int(input(\"Enter end index for sublist: \"))\n",
        "        print(f\"Sublist: {get_sublist(numbers, start, end)}\")\n",
        "    except ValueError:\n",
        "        print(\"Invalid input. Please enter numeric values only.\")\n",
        "\n",
        "main()\n"
      ],
      "metadata": {
        "colab": {
          "base_uri": "https://localhost:8080/"
        },
        "id": "psEi7doIV8SN",
        "outputId": "bad7392d-dabb-40d2-edea-e48a951d859e"
      },
      "execution_count": 8,
      "outputs": [
        {
          "output_type": "stream",
          "name": "stdout",
          "text": [
            "Enter a list of numbers separated by spaces: 1 2 3 4 5 6\n",
            "Every Other Element: [1, 3, 5]\n",
            "Enter start index for sublist: 2\n",
            "Enter end index for sublist: 3\n",
            "Sublist: [3, 4]\n"
          ]
        }
      ]
    },
    {
      "cell_type": "markdown",
      "source": [
        "3.Reverse a List Using Slicing:\n",
        "\n",
        "Write a Python function that reverses a list using slicing.\n",
        "\n",
        "• Requirements:\n",
        "\n",
        "– Define a function reverse list(lst) that takes a list lst and returns a reversed list using\n",
        "slicing.\n",
        "– Example: For the input [1, 2, 3, 4, 5], the output should be [5, 4, 3, 2, 1].\n"
      ],
      "metadata": {
        "id": "ibgV1QzyXPUh"
      }
    },
    {
      "cell_type": "code",
      "source": [
        "def reverse_list(lst: list) -> list:\n",
        "\n",
        "    return lst[::-1]\n",
        "\n",
        "def main():\n",
        "\n",
        "    try:\n",
        "        numbers = list(map(int, input(\"Enter a list of numbers separated by spaces: \").split()))\n",
        "        if not numbers:\n",
        "            print(\"Error: The list cannot be empty.\")\n",
        "            return\n",
        "\n",
        "        print(f\"Reversed List: {reverse_list(numbers)}\")\n",
        "    except ValueError:\n",
        "        print(\"Invalid input. Please enter numeric values only.\")\n",
        "\n",
        "\n",
        "main()\n"
      ],
      "metadata": {
        "colab": {
          "base_uri": "https://localhost:8080/"
        },
        "id": "BVtsQrBaXWO_",
        "outputId": "c586079e-55b6-44c1-91af-c1f29362fe6a"
      },
      "execution_count": null,
      "outputs": [
        {
          "output_type": "stream",
          "name": "stdout",
          "text": [
            "Enter a list of numbers separated by spaces: 5\n",
            "Reversed List: [5]\n"
          ]
        }
      ]
    },
    {
      "cell_type": "markdown",
      "source": [
        "4.Remove the First and Last Elements:\n",
        "\n",
        "Write a Python function that removes the first and last elements of a list and returns the resulting\n",
        "sublist.\n",
        "\n",
        "• Requirements:\n",
        "\n",
        "– Define a function remove first last(lst) that takes a list lst and returns a sublist without\n",
        "the first and last elements using slicing.\n",
        "– Example: For the input [1, 2, 3, 4, 5], the output should be [2, 3, 4]."
      ],
      "metadata": {
        "id": "3HAgKB9yYMge"
      }
    },
    {
      "cell_type": "code",
      "source": [
        "def remove_first_last(lst: list) -> list:\n",
        "\n",
        "    return lst[1:-1] if len(lst) > 2 else []\n",
        "\n",
        "def main():\n",
        "\n",
        "    try:\n",
        "        numbers = list(map(int, input(\"Enter a list of numbers separated by spaces: \").split()))\n",
        "        if not numbers:\n",
        "            print(\"Error: The list cannot be empty.\")\n",
        "            return\n",
        "\n",
        "        print(f\"List without first and last elements: {remove_first_last(numbers)}\")\n",
        "    except ValueError:\n",
        "        print(\"Invalid input. Please enter numeric values only.\")\n",
        "\n",
        "\n",
        "main()\n"
      ],
      "metadata": {
        "colab": {
          "base_uri": "https://localhost:8080/"
        },
        "id": "uggjVnQQYVgt",
        "outputId": "6570e3db-a0c8-465a-8e43-538a381ff1f2"
      },
      "execution_count": null,
      "outputs": [
        {
          "output_type": "stream",
          "name": "stdout",
          "text": [
            "Enter a list of numbers separated by spaces: 6 7 8 3\n",
            "List without first and last elements: [7, 8]\n"
          ]
        }
      ]
    },
    {
      "cell_type": "markdown",
      "source": [
        "5.Get the First n Elements:\n",
        "Write a Python function that extracts the first n elements from a list.\n",
        "\n",
        "• Requirements:\n",
        "\n",
        "– Define a function get first n(lst, n) that takes a list lst and an integer n as input and\n",
        "returns the first n elements of the list using slicing.\n",
        "\n",
        "– Example: For the input [1, 2, 3, 4, 5] with n=3, the output should be [1, 2, 3]."
      ],
      "metadata": {
        "id": "UTFVNJzdaDQp"
      }
    },
    {
      "cell_type": "code",
      "source": [
        "def get_first_n(lst: list, n: int) -> list:\n",
        "\n",
        "    return lst[:n] if n > 0 else []\n",
        "\n",
        "def main():\n",
        "\n",
        "    try:\n",
        "        numbers = list(map(int, input(\"Enter a list of numbers separated by spaces: \").split()))\n",
        "        if not numbers:\n",
        "            print(\"Error: The list cannot be empty.\")\n",
        "            return\n",
        "\n",
        "        n = int(input(\"Enter the number of first elements to extract: \"))\n",
        "        print(f\"First {n} elements: {get_first_n(numbers, n)}\")\n",
        "    except ValueError:\n",
        "        print(\"Invalid input. Please enter numeric values only.\")\n",
        "\n",
        "\n",
        "main()"
      ],
      "metadata": {
        "colab": {
          "base_uri": "https://localhost:8080/"
        },
        "id": "UjCpJQ0-aIgN",
        "outputId": "180130c7-4f03-489d-fc01-a5babd18531a"
      },
      "execution_count": null,
      "outputs": [
        {
          "output_type": "stream",
          "name": "stdout",
          "text": [
            "Enter a list of numbers separated by spaces: 4 7 9 2 3\n",
            "Enter the number of first elements to extract: 3\n",
            "First 3 elements: [4, 7, 9]\n"
          ]
        }
      ]
    },
    {
      "cell_type": "markdown",
      "source": [
        "6.Extract Elements from the End:\n",
        "Write a Python function that extracts the last n elements of a list using slicing.\n",
        "\n",
        "• Requirements:\n",
        "\n",
        "– Define a function get last n(lst, n) that takes a list lst and an integer n as input and\n",
        "returns the last n elements of the list.\n",
        "– Example: For the input [1, 2, 3, 4, 5] with n=2, the output should be [4, 5]."
      ],
      "metadata": {
        "id": "HM0lrpPabL-u"
      }
    },
    {
      "cell_type": "code",
      "source": [
        "def get_last_n(lst: list, n: int) -> list:\n",
        "    return lst[-n:] if n > 0 else []\n",
        "\n",
        "def main():\n",
        "    try:\n",
        "        numbers = list(map(int, input(\"Enter a list of numbers separated by spaces: \").split()))\n",
        "        if not numbers:\n",
        "            print(\"Error: The list cannot be empty.\")\n",
        "            return\n",
        "\n",
        "        n = int(input(\"Enter the number of last elements to extract: \"))\n",
        "        print(f\"Last {n} elements: {get_last_n(numbers, n)}\")\n",
        "    except ValueError:\n",
        "        print(\"Invalid input. Please enter numeric values only.\")\n",
        "\n",
        "\n",
        "main()\n"
      ],
      "metadata": {
        "colab": {
          "base_uri": "https://localhost:8080/"
        },
        "id": "av7ljbCebXkt",
        "outputId": "d8eadd83-e17c-48f6-9fcf-24230c9e2e84"
      },
      "execution_count": null,
      "outputs": [
        {
          "output_type": "stream",
          "name": "stdout",
          "text": [
            "Enter a list of numbers separated by spaces: 4 5 6 3 5 3\n",
            "Enter the number of last elements to extract: 3\n",
            "Last 3 elements: [3, 5, 3]\n"
          ]
        }
      ]
    },
    {
      "cell_type": "markdown",
      "source": [
        "7.Extract Elements in Reverse Order:\n",
        "\n",
        "Write a Python function that extracts a list of elements in reverse order starting from the second-to-last\n",
        "element and skipping one element in between.\n",
        "\n",
        "• Requirements:\n",
        "\n",
        "– Define a function reverse skip(lst) that takes a list lst and returns a new list containing\n",
        "every second element starting from the second-to-last, moving backward.\n",
        "\n",
        "– Example: For the input [1, 2, 3, 4, 5, 6], the output should be [5, 3, 1].\n"
      ],
      "metadata": {
        "id": "DfQ5OgCkbtqE"
      }
    },
    {
      "cell_type": "code",
      "source": [
        "def reverse_skip(lst: list) -> list:\n",
        "    return lst[-2::-2]\n",
        "\n",
        "def main():\n",
        "    try:\n",
        "        numbers = list(map(int, input(\"Enter a list of numbers separated by spaces: \").split()))\n",
        "        if not numbers:\n",
        "            print(\"Error: The list cannot be empty.\")\n",
        "            return\n",
        "\n",
        "        print(f\"Elements in reverse order (skipping one): {reverse_skip(numbers)}\")\n",
        "    except ValueError:\n",
        "        print(\"Invalid input. Please enter numeric values only.\")\n",
        "\n",
        "\n",
        "main()\n"
      ],
      "metadata": {
        "colab": {
          "base_uri": "https://localhost:8080/"
        },
        "id": "_bzk3Kw6b5NT",
        "outputId": "dac5c27d-8fc5-4acd-ceaa-b217f8df6853"
      },
      "execution_count": null,
      "outputs": [
        {
          "output_type": "stream",
          "name": "stdout",
          "text": [
            "Enter a list of numbers separated by spaces: 2 4 7 4 5 3 7 3 7\n",
            "Elements in reverse order (skipping one): [3, 3, 4, 4]\n"
          ]
        }
      ]
    },
    {
      "cell_type": "markdown",
      "source": [
        "1.Flatten a Nested List:\n",
        "Write a Python function that takes a nested list and flattens it into a single list, where all the elements\n",
        "are in a single dimension.\n",
        "\n",
        "• Requirements:\n",
        "\n",
        "– Define a function flatten(lst) that takes a nested list lst and returns a flattened version\n",
        "of the list.\n",
        "– Example: For the input [[1, 2], [3, 4], [5]], the output should be [1, 2, 3, 4, 5].\n"
      ],
      "metadata": {
        "id": "__WCVb9KdINa"
      }
    },
    {
      "cell_type": "code",
      "source": [
        "def flatten(lst: list) -> list:\n",
        "    return [item for sublist in lst for item in sublist]\n",
        "\n",
        "def main():\n",
        "\n",
        "    try:\n",
        "        nested_list = eval(input(\"Enter a nested list (e.g., [[1,2],[3,4],[5]]): \"))\n",
        "        if not isinstance(nested_list, list) or not all(isinstance(sub, list) for sub in nested_list):\n",
        "            print(\"Error: Please enter a valid nested list.\")\n",
        "            return\n",
        "\n",
        "        print(f\"Flattened List: {flatten(nested_list)}\")\n",
        "    except Exception as e:\n",
        "        print(f\"Invalid input: {e}\")\n",
        "\n",
        "\n",
        "main()\n"
      ],
      "metadata": {
        "colab": {
          "base_uri": "https://localhost:8080/"
        },
        "id": "TQAGAD1ddL10",
        "outputId": "5422aeca-df48-4d46-e748-de98cd06d6e5"
      },
      "execution_count": null,
      "outputs": [
        {
          "output_type": "stream",
          "name": "stdout",
          "text": [
            "Enter a nested list (e.g., [[1,2],[3,4],[5]]): [[1,2],[3,4],[5]]\n",
            "Flattened List: [1, 2, 3, 4, 5]\n"
          ]
        }
      ]
    },
    {
      "cell_type": "markdown",
      "source": [
        "2.Accessing Nested List Elements:\n",
        "\n",
        " Write a Python function that extracts a specific element from a nested list given its indices.\n",
        "\n",
        "\n",
        " • Requirements:\n",
        "\n",
        " – Define a function access nested\n",
        " element(lst, indices) that takes a nested list lst and\n",
        " a list of indices indices, and returns the element at that position.– Example: For the input lst = [[1, 2, 3], [4, 5, 6], [7, 8, 9]] with indices = [1,\n",
        " 2], the output should be 6."
      ],
      "metadata": {
        "id": "E7vB94C5Degx"
      }
    },
    {
      "cell_type": "code",
      "source": [
        "def access_nested_element(lst: list, indices: list) -> int:\n",
        "    try:\n",
        "        element = lst\n",
        "        for index in indices:\n",
        "            element = element[index]\n",
        "        return element\n",
        "    except (IndexError, TypeError):\n",
        "        return \"Error: Invalid indices or structure.\"\n",
        "\n",
        "def main():\n",
        "    try:\n",
        "        nested_list = eval(input(\"Enter a nested list (e.g., [[1,2,3],[4,5,6],[7,8,9]]): \"))\n",
        "        indices = list(map(int, input(\"Enter indices separated by spaces (e.g., 1 2): \").split()))\n",
        "\n",
        "        print(f\"Accessed Element: {access_nested_element(nested_list, indices)}\")\n",
        "    except Exception as e:\n",
        "        print(f\"Invalid input: {e}\")\n",
        "\n",
        "\n",
        "main()\n"
      ],
      "metadata": {
        "colab": {
          "base_uri": "https://localhost:8080/"
        },
        "id": "r9OXRJR9Ec7u",
        "outputId": "6b824ecd-0d01-49d0-fb48-6667eb13bb0d"
      },
      "execution_count": 4,
      "outputs": [
        {
          "output_type": "stream",
          "name": "stdout",
          "text": [
            "Enter a nested list (e.g., [[1,2,3],[4,5,6],[7,8,9]]): [[1,2,3],[4,5,6],[7,8,9]]\n",
            "Enter indices separated by spaces (e.g., 1 2): 1 2\n",
            "Accessed Element: 6\n"
          ]
        }
      ]
    },
    {
      "cell_type": "markdown",
      "source": [
        " 3. Sum of All Elements in a Nested List:\n",
        "\n",
        " Write a Python function that calculates the sum of all the numbers in a nested list (regardless of depth).\n",
        "\n",
        " • Requirements:\n",
        "\n",
        " – Define a function sum\n",
        " nested(lst) that takes a nested list lst and returns the sum of all\n",
        " the elements.\n",
        "\n",
        " – Example: For the input [[1, 2], [3, [4, 5]], 6], the output should be 21."
      ],
      "metadata": {
        "id": "756qaoh_IZyh"
      }
    },
    {
      "cell_type": "code",
      "source": [
        "def sum_nested(lst: list) -> int:\n",
        "    total = 0\n",
        "    for item in lst:\n",
        "        if isinstance(item, list):\n",
        "            total += sum_nested(item)  # Recursively sum nested lists\n",
        "        else:\n",
        "            total += item  # Add number to total\n",
        "    return total\n",
        "\n",
        "def main():\n",
        "    try:\n",
        "        nested_list = eval(input(\"Enter a nested list (e.g., [[1,2],[3,[4,5]],6]): \"))\n",
        "        print(f\"Sum of all elements: {sum_nested(nested_list)}\")\n",
        "    except Exception as e:\n",
        "        print(f\"Invalid input: {e}\")\n",
        "\n",
        "\n",
        "main()\n"
      ],
      "metadata": {
        "colab": {
          "base_uri": "https://localhost:8080/"
        },
        "id": "Nfmzd9PcIrm1",
        "outputId": "d2019579-9d2f-479f-c276-bcf1ed4e9839"
      },
      "execution_count": null,
      "outputs": [
        {
          "output_type": "stream",
          "name": "stdout",
          "text": [
            "Enter a nested list (e.g., [[1,2],[3,[4,5]],6]): 2,3\n",
            "Sum of all elements: 5\n"
          ]
        }
      ]
    },
    {
      "cell_type": "markdown",
      "source": [
        "4.Remove Specific Element from a Nested List:\n",
        "\n",
        " Write a Python function that removes all occurrences of a specific element from a nested list.\n",
        "\n",
        " • Requirements:\n",
        "\n",
        " – Define a function remove\n",
        " element(lst, elem) that removes elem from lst and returns the\n",
        " modified list.\n",
        "\n",
        " – Example: Fortheinput lst = [[1, 2], [3, 2], [4, 5]]andelem = 2,theoutputshould\n",
        " be [[1], [3], [4, 5]]."
      ],
      "metadata": {
        "id": "VWA4EKDZLhHS"
      }
    },
    {
      "cell_type": "code",
      "source": [
        "def remove_element(lst: list, elem: int) -> list:\n",
        "    result = []\n",
        "    for item in lst:\n",
        "        if isinstance(item, list):\n",
        "            result.append(remove_element(item, elem))  # Recursively process nested lists\n",
        "        elif item != elem:\n",
        "            result.append(item)  # Add non-matching elements\n",
        "    return result\n",
        "\n",
        "def main():\n",
        "    try:\n",
        "        nested_list = eval(input(\"Enter a nested list (e.g., [[1,2],[3,2],[4,5]]): \"))\n",
        "        elem = int(input(\"Enter the element to remove: \"))\n",
        "        print(f\"Modified List: {remove_element(nested_list, elem)}\")\n",
        "    except Exception as e:\n",
        "        print(f\"Invalid input: {e}\")\n",
        "\n",
        "main()\n"
      ],
      "metadata": {
        "colab": {
          "base_uri": "https://localhost:8080/"
        },
        "id": "Ki4RxE_qL_Jc",
        "outputId": "1e29fc40-a053-49e7-eac0-fda2a80c7f0a"
      },
      "execution_count": null,
      "outputs": [
        {
          "output_type": "stream",
          "name": "stdout",
          "text": [
            "Enter a nested list (e.g., [[1,2],[3,2],[4,5]]):  [[1,2,3],[4,5,6],[7,8,9]]\n",
            "Enter the element to remove: 2\n",
            "Modified List: [[1, 3], [4, 5, 6], [7, 8, 9]]\n"
          ]
        }
      ]
    },
    {
      "cell_type": "markdown",
      "source": [
        " 5. Find the Maximum Element in a Nested List:\n",
        "\n",
        " Write a Python function that finds the maximum element in a nested list (regardless of depth).\n",
        "\n",
        " • Requirements:\n",
        "\n",
        " – Define a function find\n",
        " element.\n",
        " max(lst) that takes a nested list lst and returns the maximum\n",
        " – Example: For the input [[1, 2], [3, [4, 5]], 6], the output should be 6."
      ],
      "metadata": {
        "id": "usZBnha_N_Xj"
      }
    },
    {
      "cell_type": "code",
      "source": [
        "def find_max_element(lst: list) -> int:\n",
        "    max_value = float('-inf')\n",
        "    for item in lst:\n",
        "        if isinstance(item, list):\n",
        "            max_value = max(max_value, find_max_element(item))  # Recursively find max in nested lists\n",
        "        else:\n",
        "            max_value = max(max_value, item)  # Compare numbers directly\n",
        "    return max_value\n",
        "\n",
        "def main():\n",
        "    try:\n",
        "        nested_list = eval(input(\"Enter a nested list (e.g., [[1,2],[3,[4,5]],6]): \"))\n",
        "        print(f\"Maximum Element: {find_max_element(nested_list)}\")\n",
        "    except Exception as e:\n",
        "        print(f\"Invalid input: {e}\")\n",
        "\n",
        "\n",
        "main()\n"
      ],
      "metadata": {
        "colab": {
          "base_uri": "https://localhost:8080/"
        },
        "id": "BZu5W5VSPY0b",
        "outputId": "8bad78d2-8a2c-494f-a738-88fae8d3fafb"
      },
      "execution_count": null,
      "outputs": [
        {
          "output_type": "stream",
          "name": "stdout",
          "text": [
            "Enter a nested list (e.g., [[1,2],[3,[4,5]],6]):  [[1,2,3],[4,5,6],[7,8,9]]\n",
            "Maximum Element: 9\n"
          ]
        }
      ]
    },
    {
      "cell_type": "markdown",
      "source": [
        " 6. Count Occurrences of an Element in a Nested List:\n",
        "\n",
        " Write a Python function that counts how many times a specific element appears in a nested list.\n",
        "\n",
        " • Requirements:\n",
        "\n",
        " – Define a function count\n",
        "occurrences(lst, elem) that counts the occurrences of elem in\n",
        " the nested list lst.– Example: Fortheinput lst = [[1, 2], [2, 3], [2, 4]]andelem = 2,theoutputshould\n",
        " be 3."
      ],
      "metadata": {
        "id": "OPjhEVVNQGd3"
      }
    },
    {
      "cell_type": "code",
      "source": [
        "def count_occurrences(lst: list, elem: int) -> int:\n",
        "\n",
        "    count = 0\n",
        "    for item in lst:\n",
        "        if isinstance(item, list):\n",
        "            count += count_occurrences(item, elem)  # Recursively count occurrences in nested lists\n",
        "        elif item == elem:\n",
        "            count += 1  # Increment count if element matches\n",
        "    return count\n",
        "\n",
        "def main():\n",
        "    try:\n",
        "        nested_list = eval(input(\"Enter a nested list (e.g., [[1,2],[2,3],[2,4]]): \"))\n",
        "        elem = int(input(\"Enter the element to count: \"))\n",
        "        print(f\"Occurrences of {elem}: {count_occurrences(nested_list, elem)}\")\n",
        "    except Exception as e:\n",
        "        print(f\"Invalid input: {e}\")\n",
        "\n",
        "\n",
        "main()\n"
      ],
      "metadata": {
        "colab": {
          "base_uri": "https://localhost:8080/"
        },
        "id": "jB54zrkZSbKP",
        "outputId": "25b66d2b-16c8-4708-d564-da6e07d10249"
      },
      "execution_count": null,
      "outputs": [
        {
          "output_type": "stream",
          "name": "stdout",
          "text": [
            "Enter a nested list (e.g., [[1,2],[2,3],[2,4]]):  [[1,2,3],[4,5,6],[7,8,9]]\n",
            "Enter the element to count: 2\n",
            "Occurrences of 2: 1\n"
          ]
        }
      ]
    },
    {
      "cell_type": "markdown",
      "source": [
        " 7. Flatten a List of Lists of Lists:\n",
        " Write a Python function that flattens a list of lists of lists into a single list, regardless of the depth.\n",
        "\n",
        " • Requirements:\n",
        "\n",
        " – Define a function deep\n",
        " flatten(lst) that takes a deeply nested list lst and returns a single\n",
        " flattened list.\n",
        "\n",
        " – Example: For the input [[[1, 2], [3, 4]], [[5, 6], [7, 8]]], the output should be\n",
        " [1, 2, 3, 4, 5, 6, 7, 8]."
      ],
      "metadata": {
        "id": "vBEoigOUTrI_"
      }
    },
    {
      "cell_type": "code",
      "source": [
        "def deep_flatten(lst: list) -> list:\n",
        "    result = []\n",
        "    for item in lst:\n",
        "        if isinstance(item, list):\n",
        "            result.extend(deep_flatten(item))  # Recursively flatten nested lists\n",
        "        else:\n",
        "            result.append(item)  # Add non-list elements directly\n",
        "    return result\n",
        "\n",
        "def main():\n",
        "    try:\n",
        "        nested_list = eval(input(\"Enter a deeply nested list (e.g., [[[1,2],[3,4]],[[5,6],[7,8]]]): \"))\n",
        "        print(f\"Flattened List: {deep_flatten(nested_list)}\")\n",
        "    except Exception as e:\n",
        "        print(f\"Invalid input: {e}\")\n",
        "\n",
        "\n",
        "main()\n"
      ],
      "metadata": {
        "colab": {
          "base_uri": "https://localhost:8080/"
        },
        "id": "L9ew991WUHRf",
        "outputId": "6e3797ca-4360-47c5-8449-89c9062c76ae"
      },
      "execution_count": null,
      "outputs": [
        {
          "output_type": "stream",
          "name": "stdout",
          "text": [
            "Enter a deeply nested list (e.g., [[[1,2],[3,4]],[[5,6],[7,8]]]): [[[1,2],[3,4]],[[5,6],[7,8]]]\n",
            "Flattened List: [1, 2, 3, 4, 5, 6, 7, 8]\n"
          ]
        }
      ]
    },
    {
      "cell_type": "markdown",
      "source": [
        " 8. Nested List Average:\n",
        " Write a Python function that calculates the average of all elements in a nested list.\n",
        "\n",
        " • Requirements:\n",
        "\n",
        " – Define a function average\n",
        " of all the elements.\n",
        " nested(lst) that takes a nested list lst and returns the average\n",
        "\n",
        " – Example: For the input [[1, 2], [3, 4], [5, 6]], the output should be"
      ],
      "metadata": {
        "id": "ibWGS4X2U1ik"
      }
    },
    {
      "cell_type": "code",
      "source": [
        "def nested_average(lst: list) -> float:\n",
        "    def flatten(lst):\n",
        "        result = []\n",
        "        for item in lst:\n",
        "            if isinstance(item, list):\n",
        "                result.extend(flatten(item))  # Recursively flatten nested lists\n",
        "            else:\n",
        "                result.append(item)  # Add non-list elements directly\n",
        "        return result\n",
        "\n",
        "    flat_list = flatten(lst)  # Flatten the list first\n",
        "    return sum(flat_list) / len(flat_list) if flat_list else 0\n",
        "\n",
        "def main():\n",
        "    try:\n",
        "        nested_list = eval(input(\"Enter a deeply nested list (e.g., [[[1,2],[3,4]],[[5,6],[7,8]]]): \"))\n",
        "        print(f\"Average of Elements: {nested_average(nested_list)}\")\n",
        "    except Exception as e:\n",
        "        print(f\"Invalid input: {e}\")\n",
        "\n",
        "\n",
        "main()\n"
      ],
      "metadata": {
        "colab": {
          "base_uri": "https://localhost:8080/"
        },
        "id": "CyT3-SqFU9G4",
        "outputId": "f93dc3cf-e214-41f8-8155-15716833f22d"
      },
      "execution_count": null,
      "outputs": [
        {
          "output_type": "stream",
          "name": "stdout",
          "text": [
            "Enter a deeply nested list (e.g., [[[1,2],[3,4]],[[5,6],[7,8]]]): [[[1,2],[3,4]],[[5,6],[7,8]]]\n",
            "Average of Elements: 4.5\n"
          ]
        }
      ]
    },
    {
      "cell_type": "markdown",
      "source": [
        "**NumPy**"
      ],
      "metadata": {
        "id": "Z5l5w5z1a6CV"
      }
    },
    {
      "cell_type": "markdown",
      "source": [
        "Basic Vector and Matrix Operation with Numpy.\n",
        "Problem - 1: Array Creation:\n",
        "Complete the following Tasks:\n",
        "1. Initialize an empty array with size 2X2.\n",
        "2. Initialize an all one array with size 4X2.\n",
        "3. Return a new array of given shape and type, filled with fill value.{Hint: np.full}\n",
        "4. Return a new array of zeros with same shape and type as a given array.{Hint: np.zeros like}\n",
        "5. Return a new array of ones with same shape and type as a given array.{Hint: np.ones like}\n",
        "6. For an existing list new_list = [1,2,3,4] convert to an numpy array.{Hint: np.array()}"
      ],
      "metadata": {
        "id": "ctXtcbJJbCOZ"
      }
    },
    {
      "cell_type": "code",
      "source": [
        "import numpy as np"
      ],
      "metadata": {
        "id": "C_bFmWBCa5Ac"
      },
      "execution_count": null,
      "outputs": []
    },
    {
      "cell_type": "code",
      "source": [
        "empty_array = np.empty((2, 2))\n",
        "print(\"Empty Array:\")\n",
        "print(empty_array)"
      ],
      "metadata": {
        "colab": {
          "base_uri": "https://localhost:8080/"
        },
        "id": "TMjhxpzBbqnb",
        "outputId": "9d3cb016-ea1b-4290-bb78-169d75d5a592"
      },
      "execution_count": null,
      "outputs": [
        {
          "output_type": "stream",
          "name": "stdout",
          "text": [
            "Empty Array:\n",
            "[[3.00144361e-316 0.00000000e+000]\n",
            " [6.77286165e-310 2.59758539e+049]]\n"
          ]
        }
      ]
    },
    {
      "cell_type": "code",
      "source": [
        "ones_array = np.ones((4, 2))\n",
        "print(\"All-One Array:\")\n",
        "print(ones_array)\n"
      ],
      "metadata": {
        "colab": {
          "base_uri": "https://localhost:8080/"
        },
        "id": "4Ys1xSehbtLx",
        "outputId": "d4a449a3-5bf8-4ff1-c1d9-bb4e1312c2f4"
      },
      "execution_count": null,
      "outputs": [
        {
          "output_type": "stream",
          "name": "stdout",
          "text": [
            "All-One Array:\n",
            "[[1. 1.]\n",
            " [1. 1.]\n",
            " [1. 1.]\n",
            " [1. 1.]]\n"
          ]
        }
      ]
    },
    {
      "cell_type": "code",
      "source": [
        "filled_array = np.full((3, 3), 7)\n",
        "print(\"Filled Array with 7s:\")\n",
        "print(filled_array)"
      ],
      "metadata": {
        "colab": {
          "base_uri": "https://localhost:8080/"
        },
        "id": "zH7T-elYbx5w",
        "outputId": "75277916-7ff2-4e6b-fcfe-693e27bf86de"
      },
      "execution_count": null,
      "outputs": [
        {
          "output_type": "stream",
          "name": "stdout",
          "text": [
            "Filled Array with 7s:\n",
            "[[7 7 7]\n",
            " [7 7 7]\n",
            " [7 7 7]]\n"
          ]
        }
      ]
    },
    {
      "cell_type": "code",
      "source": [
        "arr = np.array([[1, 2], [3, 4]])\n",
        "zeros_array = np.zeros_like(arr)\n",
        "print(\"Zeros Array :\")\n",
        "print(zeros_array)"
      ],
      "metadata": {
        "colab": {
          "base_uri": "https://localhost:8080/"
        },
        "id": "5iVX6gWUb1mQ",
        "outputId": "997fd2be-47b1-41f8-8cb0-d93cc933f34e"
      },
      "execution_count": null,
      "outputs": [
        {
          "output_type": "stream",
          "name": "stdout",
          "text": [
            "Zeros Array :\n",
            "[[0 0]\n",
            " [0 0]]\n"
          ]
        }
      ]
    },
    {
      "cell_type": "code",
      "source": [
        "ones_like_array = np.ones_like(arr)\n",
        "print(\"Ones Array :\")\n",
        "print(ones_like_array)"
      ],
      "metadata": {
        "colab": {
          "base_uri": "https://localhost:8080/"
        },
        "id": "uloY_YZLcFtq",
        "outputId": "3abb19c9-9e5a-4d64-cb75-0cb16666a31a"
      },
      "execution_count": null,
      "outputs": [
        {
          "output_type": "stream",
          "name": "stdout",
          "text": [
            "Ones Array :\n",
            "[[1 1]\n",
            " [1 1]]\n"
          ]
        }
      ]
    },
    {
      "cell_type": "code",
      "source": [
        "new_list = [1, 2, 3, 4]\n",
        "numpy_array = np.array(new_list)\n",
        "print(\"Converted NumPy Array from List:\")\n",
        "print(numpy_array)"
      ],
      "metadata": {
        "colab": {
          "base_uri": "https://localhost:8080/"
        },
        "id": "CPdP_riRcJhx",
        "outputId": "000ca43b-1686-4772-b065-37cdbef96ab1"
      },
      "execution_count": null,
      "outputs": [
        {
          "output_type": "stream",
          "name": "stdout",
          "text": [
            "Converted NumPy Array from List:\n",
            "[1 2 3 4]\n"
          ]
        }
      ]
    },
    {
      "cell_type": "markdown",
      "source": [
        "1. Create an array with values ranging from 10 to 49. {Hint:np.arrange()}.\n",
        "2. Create a 3X3 matrix with values ranging from 0 to 8.\n",
        "{Hint:look for np.reshape()}\n",
        "3. Create a 3X3 identity matrix.{Hint:np.eye()}\n",
        "4. Create a random array of size 30 and find the mean of the array.\n",
        "{Hint:check for np.random.random() and array.mean() function}\n",
        "5. Create a 10X10 array with random values and find the minimum and maximum values.\n",
        "6. Create a zero array of size 10 and replace 5th element with 1.\n",
        "7. Reverse an array arr = [1,2,0,0,4,0].\n",
        "8. Create a 2d array with 1 on border and 0 inside.\n",
        "9. Create a 8X8 matrix and fill it with a checkerboard pattern."
      ],
      "metadata": {
        "id": "cX6ES3aEcgdY"
      }
    },
    {
      "cell_type": "code",
      "source": [
        "range_array = np.arange(10, 50)\n",
        "print(\"Array with values from 10 to 49:\")\n",
        "print(range_array)"
      ],
      "metadata": {
        "colab": {
          "base_uri": "https://localhost:8080/"
        },
        "id": "1ZMfcW7AcUMH",
        "outputId": "402ac548-9ea7-45b8-d1a1-bcf13f6a93e0"
      },
      "execution_count": null,
      "outputs": [
        {
          "output_type": "stream",
          "name": "stdout",
          "text": [
            "Array with values from 10 to 49:\n",
            "[10 11 12 13 14 15 16 17 18 19 20 21 22 23 24 25 26 27 28 29 30 31 32 33\n",
            " 34 35 36 37 38 39 40 41 42 43 44 45 46 47 48 49]\n"
          ]
        }
      ]
    },
    {
      "cell_type": "code",
      "source": [
        "reshaped_matrix = np.arange(9).reshape(3, 3)\n",
        "print(\"3x3 Matrix with values from 0 to 8:\")\n",
        "print(reshaped_matrix)"
      ],
      "metadata": {
        "colab": {
          "base_uri": "https://localhost:8080/"
        },
        "id": "ld4Z5USuc0py",
        "outputId": "88081fd6-4205-40b2-da09-c721b1a2eece"
      },
      "execution_count": null,
      "outputs": [
        {
          "output_type": "stream",
          "name": "stdout",
          "text": [
            "3x3 Matrix with values from 0 to 8:\n",
            "[[0 1 2]\n",
            " [3 4 5]\n",
            " [6 7 8]]\n"
          ]
        }
      ]
    },
    {
      "cell_type": "code",
      "source": [
        "identity_matrix = np.eye(3)\n",
        "print(\"3x3 Identity Matrix:\")\n",
        "print(identity_matrix)"
      ],
      "metadata": {
        "colab": {
          "base_uri": "https://localhost:8080/"
        },
        "id": "S7fjAQK2c8JR",
        "outputId": "6fafcbee-98dd-4a13-b779-28abeb19d913"
      },
      "execution_count": null,
      "outputs": [
        {
          "output_type": "stream",
          "name": "stdout",
          "text": [
            "3x3 Identity Matrix:\n",
            "[[1. 0. 0.]\n",
            " [0. 1. 0.]\n",
            " [0. 0. 1.]]\n"
          ]
        }
      ]
    },
    {
      "cell_type": "code",
      "source": [
        "random_array = np.random.random(30)\n",
        "mean_value = random_array.mean()\n",
        "print(\"Random Array of size 30:\")\n",
        "print(random_array)\n",
        "print(\"Mean Value:\", mean_value)"
      ],
      "metadata": {
        "colab": {
          "base_uri": "https://localhost:8080/"
        },
        "id": "HSsVX9isdAVk",
        "outputId": "4134071a-e5da-42d5-bdf8-7dac2137cf36"
      },
      "execution_count": null,
      "outputs": [
        {
          "output_type": "stream",
          "name": "stdout",
          "text": [
            "Random Array of size 30:\n",
            "[0.73278454 0.48864513 0.96251309 0.28596112 0.68786274 0.67187462\n",
            " 0.724362   0.38849603 0.42062842 0.17660536 0.19171075 0.99747513\n",
            " 0.12631678 0.80600845 0.31295485 0.74859084 0.14987594 0.13019357\n",
            " 0.02332528 0.34616327 0.20355537 0.76822659 0.27970106 0.41097316\n",
            " 0.20151274 0.40876668 0.80585541 0.12618314 0.03074127 0.32122012]\n",
            "Mean Value: 0.4309694482941343\n"
          ]
        }
      ]
    },
    {
      "cell_type": "code",
      "source": [
        "random_matrix = np.random.random((10, 10))\n",
        "min_value = random_matrix.min()\n",
        "max_value = random_matrix.max()\n",
        "print(\"Random Matrix:\")\n",
        "print(random_matrix)\n",
        "print(\"Minimum Value:\", min_value)\n",
        "print(\"Maximum Value:\", max_value)"
      ],
      "metadata": {
        "colab": {
          "base_uri": "https://localhost:8080/"
        },
        "id": "-9Vo1ES7dGNM",
        "outputId": "58a4602d-1d9d-44b3-fe24-4c3d27d51d04"
      },
      "execution_count": null,
      "outputs": [
        {
          "output_type": "stream",
          "name": "stdout",
          "text": [
            "Random Matrix:\n",
            "[[0.36564255 0.14295041 0.85570796 0.83236285 0.55473661 0.12753395\n",
            "  0.30876256 0.21298148 0.02108619 0.77389446]\n",
            " [0.86007332 0.5162     0.03754273 0.3596491  0.98390405 0.66248709\n",
            "  0.81680791 0.08375276 0.15252054 0.16048543]\n",
            " [0.83233924 0.45120339 0.2027618  0.97304565 0.02778625 0.88130102\n",
            "  0.2469904  0.42759804 0.4848959  0.86673565]\n",
            " [0.65969349 0.84020852 0.05728908 0.54393198 0.47937267 0.58398046\n",
            "  0.31639815 0.8890703  0.54045236 0.18563241]\n",
            " [0.68241025 0.72265846 0.66387292 0.80568738 0.50707019 0.8426558\n",
            "  0.80601099 0.47603625 0.72882129 0.25996262]\n",
            " [0.54416343 0.43146756 0.62112812 0.86259258 0.2633718  0.81920892\n",
            "  0.68872869 0.33541898 0.06613625 0.35381327]\n",
            " [0.13285415 0.78910186 0.06615917 0.96691384 0.17385594 0.46734916\n",
            "  0.72693047 0.72371145 0.05414912 0.56358487]\n",
            " [0.17997273 0.56499455 0.96005544 0.74471289 0.94514529 0.05549338\n",
            "  0.20212273 0.17812144 0.93869555 0.14680147]\n",
            " [0.78294578 0.58298399 0.18377146 0.44658481 0.35880629 0.43628547\n",
            "  0.0068259  0.21995934 0.48930733 0.08839601]\n",
            " [0.64190635 0.49053616 0.28885319 0.57491083 0.92515474 0.98716436\n",
            "  0.48080506 0.39583597 0.30760052 0.73406459]]\n",
            "Minimum Value: 0.0068258990105822814\n",
            "Maximum Value: 0.987164356696702\n"
          ]
        }
      ]
    },
    {
      "cell_type": "code",
      "source": [
        "zero_array = np.zeros(10)\n",
        "zero_array[4] = 1\n",
        "print(\"Zero Array with 5th Element as 1:\")\n",
        "print(zero_array)"
      ],
      "metadata": {
        "colab": {
          "base_uri": "https://localhost:8080/"
        },
        "id": "i0OwUAi4dOav",
        "outputId": "e495146b-6ff0-4201-a470-784982db9dfe"
      },
      "execution_count": null,
      "outputs": [
        {
          "output_type": "stream",
          "name": "stdout",
          "text": [
            "Zero Array with 5th Element as 1:\n",
            "[0. 0. 0. 0. 1. 0. 0. 0. 0. 0.]\n"
          ]
        }
      ]
    },
    {
      "cell_type": "code",
      "source": [
        "arr = np.array([1, 2, 0, 0, 4, 0])\n",
        "reversed_array = arr[::-1]\n",
        "print(\"Reversed Array:\")\n",
        "print(reversed_array)"
      ],
      "metadata": {
        "colab": {
          "base_uri": "https://localhost:8080/"
        },
        "id": "-trOmSusdWBV",
        "outputId": "4fa3be74-cbd4-44fd-9d6f-688f65f5109a"
      },
      "execution_count": null,
      "outputs": [
        {
          "output_type": "stream",
          "name": "stdout",
          "text": [
            "Reversed Array:\n",
            "[0 4 0 0 2 1]\n"
          ]
        }
      ]
    },
    {
      "cell_type": "code",
      "source": [
        "border_array = np.ones((5, 5))\n",
        "border_array[1:-1, 1:-1] = 0\n",
        "print(\"Array with 1 on border and 0 inside:\")\n",
        "print(border_array)"
      ],
      "metadata": {
        "colab": {
          "base_uri": "https://localhost:8080/"
        },
        "id": "Xn2GYeITdYmk",
        "outputId": "2a552d31-bff2-427d-fef9-b9f9717f03ec"
      },
      "execution_count": null,
      "outputs": [
        {
          "output_type": "stream",
          "name": "stdout",
          "text": [
            "Array with 1 on border and 0 inside:\n",
            "[[1. 1. 1. 1. 1.]\n",
            " [1. 0. 0. 0. 1.]\n",
            " [1. 0. 0. 0. 1.]\n",
            " [1. 0. 0. 0. 1.]\n",
            " [1. 1. 1. 1. 1.]]\n"
          ]
        }
      ]
    },
    {
      "cell_type": "code",
      "source": [
        "checkerboard = np.zeros((8, 8))\n",
        "checkerboard[1::2, ::2] = 1\n",
        "checkerboard[::2, 1::2] = 1\n",
        "print(\"Checkerboard Pattern:\")\n",
        "print(checkerboard)"
      ],
      "metadata": {
        "colab": {
          "base_uri": "https://localhost:8080/"
        },
        "id": "rtPUmEundg0g",
        "outputId": "f88a8d0a-75fc-416d-a5a7-93646d67e4ed"
      },
      "execution_count": null,
      "outputs": [
        {
          "output_type": "stream",
          "name": "stdout",
          "text": [
            "Checkerboard Pattern:\n",
            "[[0. 1. 0. 1. 0. 1. 0. 1.]\n",
            " [1. 0. 1. 0. 1. 0. 1. 0.]\n",
            " [0. 1. 0. 1. 0. 1. 0. 1.]\n",
            " [1. 0. 1. 0. 1. 0. 1. 0.]\n",
            " [0. 1. 0. 1. 0. 1. 0. 1.]\n",
            " [1. 0. 1. 0. 1. 0. 1. 0.]\n",
            " [0. 1. 0. 1. 0. 1. 0. 1.]\n",
            " [1. 0. 1. 0. 1. 0. 1. 0.]]\n"
          ]
        }
      ]
    },
    {
      "cell_type": "markdown",
      "source": [
        "For the following arrays:\n",
        "x = np.array([[1,2],[3,5]]) and y = np.array([[5,6],[7,8]]);\n",
        "v = np.array([9,10]) and w = np.array([11,12]);\n",
        "Complete all the task using numpy:\n",
        "1. Add the two array.\n",
        "2. Subtract the two array.\n",
        "3. Multiply the array with any integers of your choice.\n",
        "4. Find the square of each element of the array.\n",
        "5. Find the dot product between: v(and)w ; x(and)v ; x(and)y.\n",
        "6. Concatenate x(and)y along row and Concatenate v(and)w along column.\n",
        "{Hint:try np.concatenate() or np.vstack() functions.\n",
        "7. Concatenate x(and)v; if you get an error, observe and explain why did you get the error?"
      ],
      "metadata": {
        "id": "VlEAvftTdrwl"
      }
    },
    {
      "cell_type": "code",
      "source": [
        "x = np.array([[1,2],[3,5]])\n",
        "y = np.array([[5,6],[7,8]]);\n",
        "v = np.array([9,10])\n",
        "w = np.array([11,12]);"
      ],
      "metadata": {
        "id": "Kpuoqt8QdkWe"
      },
      "execution_count": null,
      "outputs": []
    },
    {
      "cell_type": "code",
      "source": [
        "add = x + y\n",
        "print(\"Sum of x and y:\")\n",
        "print(add)"
      ],
      "metadata": {
        "colab": {
          "base_uri": "https://localhost:8080/"
        },
        "id": "zSl90Fl3dzCI",
        "outputId": "14eac4fa-9ad5-4013-f5ab-48b0b4ac2468"
      },
      "execution_count": null,
      "outputs": [
        {
          "output_type": "stream",
          "name": "stdout",
          "text": [
            "Sum of x and y:\n",
            "[[ 6  8]\n",
            " [10 13]]\n"
          ]
        }
      ]
    },
    {
      "cell_type": "code",
      "source": [
        "diff = x - y\n",
        "print(\"Difference of x and y:\")\n",
        "print(diff)\n"
      ],
      "metadata": {
        "colab": {
          "base_uri": "https://localhost:8080/"
        },
        "id": "Q5fT-hWHeKFO",
        "outputId": "a6f109d3-2392-4217-bec6-8d0c4a5f522e"
      },
      "execution_count": null,
      "outputs": [
        {
          "output_type": "stream",
          "name": "stdout",
          "text": [
            "Difference of x and y:\n",
            "[[-4 -4]\n",
            " [-4 -3]]\n"
          ]
        }
      ]
    },
    {
      "cell_type": "code",
      "source": [
        "multiplied = x * 2\n",
        "print(\"Multiplication of x by 2:\")\n",
        "print(multiplied)"
      ],
      "metadata": {
        "colab": {
          "base_uri": "https://localhost:8080/"
        },
        "id": "mzxaFVlQeY-B",
        "outputId": "886ac71d-4228-4676-d175-8601db85e350"
      },
      "execution_count": null,
      "outputs": [
        {
          "output_type": "stream",
          "name": "stdout",
          "text": [
            "Multiplication of x by 2:\n",
            "[[ 2  4]\n",
            " [ 6 10]]\n"
          ]
        }
      ]
    },
    {
      "cell_type": "code",
      "source": [
        "squared_x = np.square(x)\n",
        "print(\"Square of each element in x:\")\n",
        "print(squared_x)"
      ],
      "metadata": {
        "colab": {
          "base_uri": "https://localhost:8080/"
        },
        "id": "9tnQMbKreZLo",
        "outputId": "0493aafb-8a95-4d9e-a46d-43493dc8f3bd"
      },
      "execution_count": null,
      "outputs": [
        {
          "output_type": "stream",
          "name": "stdout",
          "text": [
            "Square of each element in x:\n",
            "[[ 1  4]\n",
            " [ 9 25]]\n"
          ]
        }
      ]
    },
    {
      "cell_type": "code",
      "source": [
        "\n",
        "dot_vw = np.dot(v, w)\n",
        "dot_xv = np.dot(x, v)\n",
        "dot_xy = np.dot(x, y)\n",
        "print(\"Dot Product of v and w:\", dot_vw)\n",
        "print(\"Dot Product of x and v:\", dot_xv)\n",
        "print(\"Dot Product of x and y:\")\n",
        "print(dot_xy)\n"
      ],
      "metadata": {
        "colab": {
          "base_uri": "https://localhost:8080/"
        },
        "id": "oA1uuSmDeeqe",
        "outputId": "831c3624-2f1f-4c40-a43e-36c46ab1535a"
      },
      "execution_count": null,
      "outputs": [
        {
          "output_type": "stream",
          "name": "stdout",
          "text": [
            "Dot Product of v and w: 219\n",
            "Dot Product of x and v: [29 77]\n",
            "Dot Product of x and y:\n",
            "[[19 22]\n",
            " [50 58]]\n"
          ]
        }
      ]
    },
    {
      "cell_type": "code",
      "source": [
        "\n",
        "concat_xy = np.concatenate((x, y), axis=1)\n",
        "concat_vw = np.vstack((v, w))\n",
        "print(\"Concatenation of x and y along rows:\")\n",
        "print(concat_xy)\n",
        "print(\"Concatenation of v and w along columns:\")\n",
        "print(concat_vw)"
      ],
      "metadata": {
        "colab": {
          "base_uri": "https://localhost:8080/"
        },
        "id": "iT1U8NyUesHj",
        "outputId": "c54d67f8-20dc-4ef7-ddab-584eea674cea"
      },
      "execution_count": null,
      "outputs": [
        {
          "output_type": "stream",
          "name": "stdout",
          "text": [
            "Concatenation of x and y along rows:\n",
            "[[1 2 5 6]\n",
            " [3 5 7 8]]\n",
            "Concatenation of v and w along columns:\n",
            "[[ 9 10]\n",
            " [11 12]]\n"
          ]
        }
      ]
    },
    {
      "cell_type": "code",
      "source": [
        "concat_xv = np.concatenate((x, v), axis=1)\n"
      ],
      "metadata": {
        "colab": {
          "base_uri": "https://localhost:8080/",
          "height": 158
        },
        "id": "0-azF1lresP-",
        "outputId": "e4a88e9a-6342-44f0-86b4-36bf5f190011"
      },
      "execution_count": null,
      "outputs": [
        {
          "output_type": "error",
          "ename": "ValueError",
          "evalue": "all the input arrays must have same number of dimensions, but the array at index 0 has 2 dimension(s) and the array at index 1 has 1 dimension(s)",
          "traceback": [
            "\u001b[0;31m---------------------------------------------------------------------------\u001b[0m",
            "\u001b[0;31mValueError\u001b[0m                                Traceback (most recent call last)",
            "\u001b[0;32m<ipython-input-48-6eb080a6fdab>\u001b[0m in \u001b[0;36m<cell line: 0>\u001b[0;34m()\u001b[0m\n\u001b[0;32m----> 1\u001b[0;31m \u001b[0mconcat_xv\u001b[0m \u001b[0;34m=\u001b[0m \u001b[0mnp\u001b[0m\u001b[0;34m.\u001b[0m\u001b[0mconcatenate\u001b[0m\u001b[0;34m(\u001b[0m\u001b[0;34m(\u001b[0m\u001b[0mx\u001b[0m\u001b[0;34m,\u001b[0m \u001b[0mv\u001b[0m\u001b[0;34m)\u001b[0m\u001b[0;34m,\u001b[0m \u001b[0maxis\u001b[0m\u001b[0;34m=\u001b[0m\u001b[0;36m1\u001b[0m\u001b[0;34m)\u001b[0m\u001b[0;34m\u001b[0m\u001b[0;34m\u001b[0m\u001b[0m\n\u001b[0m",
            "\u001b[0;31mValueError\u001b[0m: all the input arrays must have same number of dimensions, but the array at index 0 has 2 dimension(s) and the array at index 1 has 1 dimension(s)"
          ]
        }
      ]
    },
    {
      "cell_type": "markdown",
      "source": [
        "Problem - 4: Matrix Operations:\n",
        "• For the following arrays:\n",
        "A = np.array([[3,4],[7,8]]) and B = np.array([[5,3],[2,1]]);\n",
        "Prove following with Numpy:\n",
        "1. Prove A.A−1 = I.\n",
        "2. Prove AB ̸= BA.\n",
        "3. Prove (AB)\n",
        "\n",
        "T = BTAT\n",
        ".\n",
        "\n",
        "• Solve the following system of Linear equation using Inverse Methods.\n",
        "\n",
        "2x − 3y + z = −1\n",
        "x − y + 2z = −3\n",
        "3x + y − z = 9\n",
        "\n",
        "{Hint: First use Numpy array to represent the equation in Matrix form. Then Solve for: AX = B}\n",
        "\n",
        "• Now: solve the above equation using np.linalg.inv function.{Explore more about ”linalg” func-\n",
        "tion of Numpy}"
      ],
      "metadata": {
        "id": "6fIYLmvqfLei"
      }
    },
    {
      "cell_type": "code",
      "source": [
        "A = np.array([[3, 4], [7, 8]])\n",
        "B = np.array([[5, 3], [2, 1]])\n"
      ],
      "metadata": {
        "id": "caa3PGite38l"
      },
      "execution_count": null,
      "outputs": []
    },
    {
      "cell_type": "code",
      "source": [
        "A_inv = np.linalg.inv(A)\n",
        "result = np.dot(A, A_inv)\n",
        "print(\"A.A−1 = I\")\n",
        "print(result)"
      ],
      "metadata": {
        "colab": {
          "base_uri": "https://localhost:8080/"
        },
        "id": "1lZ5R5NvfPdE",
        "outputId": "d41378f2-1f87-4214-ff17-0419d7b6d14c"
      },
      "execution_count": null,
      "outputs": [
        {
          "output_type": "stream",
          "name": "stdout",
          "text": [
            "A.A−1 = I\n",
            "[[1.00000000e+00 0.00000000e+00]\n",
            " [1.77635684e-15 1.00000000e+00]]\n"
          ]
        }
      ]
    },
    {
      "cell_type": "code",
      "source": [
        "AB = np.dot(A, B)\n",
        "BA = np.dot(B, A)\n",
        "print(\"AB:\",AB)\n",
        "print(\"BA:\",BA)\n",
        "print(\"Is AB equal to BA:\",  np.array_equal(AB, BA))"
      ],
      "metadata": {
        "colab": {
          "base_uri": "https://localhost:8080/"
        },
        "id": "eeTWqIpzfepa",
        "outputId": "f14a1e37-0c80-4adb-c236-a1cd42a50005"
      },
      "execution_count": null,
      "outputs": [
        {
          "output_type": "stream",
          "name": "stdout",
          "text": [
            "AB: [[23 13]\n",
            " [51 29]]\n",
            "BA: [[36 44]\n",
            " [13 16]]\n",
            "Is AB equal to BA: False\n"
          ]
        }
      ]
    },
    {
      "cell_type": "code",
      "source": [
        "transpose_AB = np.transpose(AB)\n",
        "BTAT = np.dot(B.T, A.T)\n",
        "print(\"AB transpose:\")\n",
        "print(transpose_AB)\n",
        "print(\"B transpose * A transpose:\")\n",
        "print(BTAT)\n",
        "print(\"Is AB transpose equal to (B transpose * A transpose):\", np.array_equal(transpose_AB, BTAT))"
      ],
      "metadata": {
        "colab": {
          "base_uri": "https://localhost:8080/"
        },
        "id": "irIv-6SVf8_M",
        "outputId": "cd8d0f5c-d3b4-4d3d-c921-0df7410a1141"
      },
      "execution_count": null,
      "outputs": [
        {
          "output_type": "stream",
          "name": "stdout",
          "text": [
            "AB transpose:\n",
            "[[23 51]\n",
            " [13 29]]\n",
            "B transpose * A transpose:\n",
            "[[23 51]\n",
            " [13 29]]\n",
            "Is AB transpose equal to (B transpose * A transpose): True\n"
          ]
        }
      ]
    },
    {
      "cell_type": "code",
      "source": [
        "coeff_matrix = np.array([[2, -3, 1], [1, -1, 2], [3, 1, -1]])\n",
        "constants = np.array([-1, -3, 9])"
      ],
      "metadata": {
        "id": "k2l7F3kWgh5J"
      },
      "execution_count": null,
      "outputs": []
    },
    {
      "cell_type": "code",
      "source": [
        "coeff_matrix_inv = np.linalg.inv(coeff_matrix)\n",
        "solution = np.dot(coeff_matrix_inv, constants)\n",
        "print(\"Solution using inverse method:\")\n",
        "print(solution)"
      ],
      "metadata": {
        "colab": {
          "base_uri": "https://localhost:8080/"
        },
        "id": "l-rgZC_tg3Km",
        "outputId": "9df4ae3a-6d28-436e-a358-32e773a3b663"
      },
      "execution_count": null,
      "outputs": [
        {
          "output_type": "stream",
          "name": "stdout",
          "text": [
            "Solution using inverse method:\n",
            "[ 2.  1. -2.]\n"
          ]
        }
      ]
    },
    {
      "cell_type": "markdown",
      "source": [
        "Experiment: How Fast is Numpy?\n",
        "In this exercise, you will compare the performance and implementation of operations using plain Python\n",
        "lists (arrays) and NumPy arrays. Follow the instructions:\n",
        "1. Element-wise Addition:\n",
        "• Using Python Lists, perform element-wise addition of two lists of size 1, 000, 000. Measure\n",
        "and Print the time taken for this operation.\n",
        "• Using Numpy Arrays, Repeat the calculation and measure and print the time taken for\n",
        "this operation.\n",
        "2. Element-wise Multiplication\n",
        "• Using Python Lists, perform element-wise multiplication of two lists of size 1, 000, 000.\n",
        "Measure and Print the time taken for this operation.\n",
        "• Using Numpy Arrays, Repeat the calculation and measure and print the time taken for\n",
        "this operation.\n",
        "3. Dot Product\n",
        "• Using Python Lists, compute the dot product of two lists of size 1, 000, 000. Measure and\n",
        "Print the time taken for this operation.\n",
        "• Using Numpy Arrays, Repeat the calculation and measure and print the time taken for\n",
        "this operation.\n",
        "4. Matrix Multiplication\n",
        "\n",
        "• Using Python lists, perform matrix multiplication of two matrices of size 1000x1000. Mea-\n",
        "sure and print the time taken for this operation.\n",
        "\n",
        "• Using NumPy arrays, perform matrix multiplication of two matrices of size 1000x1000.\n",
        "Measure and print the time taken for this operation."
      ],
      "metadata": {
        "id": "VI1P88sbhQYK"
      }
    },
    {
      "cell_type": "code",
      "source": [
        "import time\n",
        "size = 1000000\n",
        "\n",
        "list1 = list(range(size))\n",
        "list2 = list(range(size))"
      ],
      "metadata": {
        "id": "2qRX9lhHhJJb"
      },
      "execution_count": null,
      "outputs": []
    },
    {
      "cell_type": "code",
      "source": [
        "start = time.time()\n",
        "list_sum = [list1[i] + list2[i] for i in range(size)]\n",
        "time_list_add = time.time() - start\n",
        "\n",
        "array1 = np.arange(size)\n",
        "array2 = np.arange(size)\n",
        "\n",
        "start = time.time()\n",
        "array_sum = array1 + array2\n",
        "time_numpy_add = time.time() - start\n",
        "\n",
        "print(\"Element-wise Addition:\")\n",
        "print(\"Python List Time:\", time_list_add)\n",
        "print(\"NumPy Array Time:\", time_numpy_add)"
      ],
      "metadata": {
        "colab": {
          "base_uri": "https://localhost:8080/"
        },
        "id": "T8JWHKc6h3rV",
        "outputId": "847a2a3b-b382-435b-ebea-b74c0dd69793"
      },
      "execution_count": null,
      "outputs": [
        {
          "output_type": "stream",
          "name": "stdout",
          "text": [
            "Element-wise Addition:\n",
            "Python List Time: 0.09306573867797852\n",
            "NumPy Array Time: 0.004523515701293945\n"
          ]
        }
      ]
    },
    {
      "cell_type": "code",
      "source": [
        "start = time.time()\n",
        "list_mult = [list1[i] * list2[i] for i in range(size)]\n",
        "time_list_mult = time.time() - start\n",
        "\n",
        "start = time.time()\n",
        "array_mult = array1 * array2\n",
        "time_numpy_mult = time.time() - start\n",
        "\n",
        "print(\"Element-wise Multiplication:\")\n",
        "print(\"Python List Time:\", time_list_mult)\n",
        "print(\"NumPy Array Time:\", time_numpy_mult)"
      ],
      "metadata": {
        "colab": {
          "base_uri": "https://localhost:8080/"
        },
        "id": "CX1kyjoPiH4T",
        "outputId": "029f5730-244b-43d7-eaf9-e400f7ac84b3"
      },
      "execution_count": null,
      "outputs": [
        {
          "output_type": "stream",
          "name": "stdout",
          "text": [
            "Element-wise Multiplication:\n",
            "Python List Time: 0.09746909141540527\n",
            "NumPy Array Time: 0.005206108093261719\n"
          ]
        }
      ]
    },
    {
      "cell_type": "code",
      "source": [
        "start = time.time()\n",
        "dot_list = np.sum(list1[i] * list2[i] for i in range(size))\n",
        "time_list_dot = time.time() - start\n",
        "\n",
        "start = time.time()\n",
        "dot_numpy = np.dot(array1, array2)\n",
        "time_numpy_dot = time.time() - start\n",
        "\n",
        "print(\"Dot Product:\")\n",
        "print(\"Python List Time:\", time_list_dot)\n",
        "print(\"NumPy Array Time:\", time_numpy_dot)"
      ],
      "metadata": {
        "colab": {
          "base_uri": "https://localhost:8080/"
        },
        "id": "g_3hiN6NiOED",
        "outputId": "b33d50c8-d5cb-4bc6-acf7-8d51d2e66455"
      },
      "execution_count": null,
      "outputs": [
        {
          "output_type": "stream",
          "name": "stderr",
          "text": [
            "<ipython-input-68-5ae196f1f43b>:2: DeprecationWarning: Calling np.sum(generator) is deprecated, and in the future will give a different result. Use np.sum(np.fromiter(generator)) or the python sum builtin instead.\n",
            "  dot_list = np.sum(list1[i] * list2[i] for i in range(size))\n"
          ]
        },
        {
          "output_type": "stream",
          "name": "stdout",
          "text": [
            "Dot Product:\n",
            "Python List Time: 0.2646675109863281\n",
            "NumPy Array Time: 0.008721590042114258\n"
          ]
        }
      ]
    },
    {
      "cell_type": "code",
      "source": [
        "matrix_size = 300\n",
        "list_matrix1 = [[i for i in range(matrix_size)] for _ in range(matrix_size)]\n",
        "list_matrix2 = [[i for i in range(matrix_size)] for _ in range(matrix_size)]\n",
        "\n",
        "start = time.time()\n",
        "result_matrix = [[np.sum(a * b for a, b in zip(row, col)) for col in zip(*list_matrix2)] for row in list_matrix1]\n",
        "time_list_mat_mult = time.time() - start\n",
        "\n",
        "numpy_matrix1 = np.arange(matrix_size**2).reshape(matrix_size, matrix_size)\n",
        "numpy_matrix2 = np.arange(matrix_size**2).reshape(matrix_size, matrix_size)\n",
        "\n",
        "start = time.time()\n",
        "result_numpy_matrix = np.dot(numpy_matrix1, numpy_matrix2)\n",
        "time_numpy_mat_mult = time.time() - start\n",
        "\n",
        "print(\"\\nMatrix Multiplication (300x300):\")\n",
        "print(\"Python List Time:\", time_list_mat_mult)\n",
        "print(\"NumPy Array Time:\", time_numpy_mat_mult)"
      ],
      "metadata": {
        "colab": {
          "base_uri": "https://localhost:8080/"
        },
        "id": "9tOqQEhwiVm3",
        "outputId": "e29dc4c6-2b0c-41ae-9970-d4a37ecdbb4f"
      },
      "execution_count": null,
      "outputs": [
        {
          "output_type": "stream",
          "name": "stderr",
          "text": [
            "<ipython-input-74-8b92380e5d12>:6: DeprecationWarning: Calling np.sum(generator) is deprecated, and in the future will give a different result. Use np.sum(np.fromiter(generator)) or the python sum builtin instead.\n",
            "  result_matrix = [[np.sum(a * b for a, b in zip(row, col)) for col in zip(*list_matrix2)] for row in list_matrix1]\n"
          ]
        },
        {
          "output_type": "stream",
          "name": "stdout",
          "text": [
            "\n",
            "Matrix Multiplication (300x300):\n",
            "Python List Time: 3.189610004425049\n",
            "NumPy Array Time: 0.04607105255126953\n"
          ]
        }
      ]
    },
    {
      "cell_type": "code",
      "source": [],
      "metadata": {
        "id": "H17AMOzOkShs"
      },
      "execution_count": null,
      "outputs": []
    }
  ]
}